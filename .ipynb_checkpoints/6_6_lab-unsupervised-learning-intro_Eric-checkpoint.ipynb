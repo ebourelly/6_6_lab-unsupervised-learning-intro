{
 "cells": [
  {
   "cell_type": "code",
   "execution_count": 3,
   "id": "d08f0a1c",
   "metadata": {},
   "outputs": [],
   "source": [
    "import numpy as np\n",
    "import matplotlib.pyplot as plt\n",
    "import pandas as pd\n",
    "from sklearn import cluster, datasets\n",
    "from sklearn.preprocessing import StandardScaler"
   ]
  },
  {
   "cell_type": "code",
   "execution_count": 21,
   "id": "155afb1e",
   "metadata": {},
   "outputs": [],
   "source": [
    "full_data = pd.read_csv('C:/Users/ebour/Documents/()_Ironhack DA Bootcamp/()_Labs/6_5_lab-api-wrappers/full_data.csv')"
   ]
  },
  {
   "cell_type": "code",
   "execution_count": 22,
   "id": "7b59d451",
   "metadata": {},
   "outputs": [
    {
     "data": {
      "text/html": [
       "<div>\n",
       "<style scoped>\n",
       "    .dataframe tbody tr th:only-of-type {\n",
       "        vertical-align: middle;\n",
       "    }\n",
       "\n",
       "    .dataframe tbody tr th {\n",
       "        vertical-align: top;\n",
       "    }\n",
       "\n",
       "    .dataframe thead th {\n",
       "        text-align: right;\n",
       "    }\n",
       "</style>\n",
       "<table border=\"1\" class=\"dataframe\">\n",
       "  <thead>\n",
       "    <tr style=\"text-align: right;\">\n",
       "      <th></th>\n",
       "      <th>Unnamed: 0</th>\n",
       "      <th>track_name</th>\n",
       "      <th>artist_name</th>\n",
       "      <th>track_uri</th>\n",
       "      <th>danceability</th>\n",
       "      <th>energy</th>\n",
       "      <th>loudness</th>\n",
       "      <th>speechiness</th>\n",
       "      <th>acousticness</th>\n",
       "      <th>instrumentalness</th>\n",
       "      <th>liveness</th>\n",
       "      <th>valence</th>\n",
       "      <th>tempo</th>\n",
       "      <th>time_signature</th>\n",
       "    </tr>\n",
       "  </thead>\n",
       "  <tbody>\n",
       "    <tr>\n",
       "      <th>0</th>\n",
       "      <td>0</td>\n",
       "      <td>The Joker And The Queen (feat. Taylor Swift)</td>\n",
       "      <td>Ed Sheeran</td>\n",
       "      <td>spotify:track:6N1K5OVVCopBjGViHs2IvP</td>\n",
       "      <td>0.528</td>\n",
       "      <td>0.309</td>\n",
       "      <td>-7.398</td>\n",
       "      <td>0.0329</td>\n",
       "      <td>0.9240</td>\n",
       "      <td>0.000002</td>\n",
       "      <td>0.2820</td>\n",
       "      <td>0.307</td>\n",
       "      <td>133.830</td>\n",
       "      <td>4</td>\n",
       "    </tr>\n",
       "    <tr>\n",
       "      <th>1</th>\n",
       "      <td>1</td>\n",
       "      <td>The Joker And The Queen (feat. Taylor Swift)</td>\n",
       "      <td>Taylor Swift</td>\n",
       "      <td>spotify:track:6N1K5OVVCopBjGViHs2IvP</td>\n",
       "      <td>0.528</td>\n",
       "      <td>0.309</td>\n",
       "      <td>-7.398</td>\n",
       "      <td>0.0329</td>\n",
       "      <td>0.9240</td>\n",
       "      <td>0.000002</td>\n",
       "      <td>0.2820</td>\n",
       "      <td>0.307</td>\n",
       "      <td>133.830</td>\n",
       "      <td>4</td>\n",
       "    </tr>\n",
       "    <tr>\n",
       "      <th>2</th>\n",
       "      <td>2</td>\n",
       "      <td>Zo Zijn</td>\n",
       "      <td>sor</td>\n",
       "      <td>spotify:track:1q30hUyUUZyjytlKTJz4cI</td>\n",
       "      <td>0.411</td>\n",
       "      <td>0.507</td>\n",
       "      <td>-9.190</td>\n",
       "      <td>0.3360</td>\n",
       "      <td>0.6400</td>\n",
       "      <td>0.000000</td>\n",
       "      <td>0.1480</td>\n",
       "      <td>0.291</td>\n",
       "      <td>80.120</td>\n",
       "      <td>4</td>\n",
       "    </tr>\n",
       "    <tr>\n",
       "      <th>3</th>\n",
       "      <td>3</td>\n",
       "      <td>Options (feat. 24kGoldn)</td>\n",
       "      <td>Internet Money</td>\n",
       "      <td>spotify:track:6bhgpD7OkCATudfKJ50JB6</td>\n",
       "      <td>0.768</td>\n",
       "      <td>0.781</td>\n",
       "      <td>-5.873</td>\n",
       "      <td>0.1540</td>\n",
       "      <td>0.1020</td>\n",
       "      <td>0.000000</td>\n",
       "      <td>0.0840</td>\n",
       "      <td>0.795</td>\n",
       "      <td>163.984</td>\n",
       "      <td>5</td>\n",
       "    </tr>\n",
       "    <tr>\n",
       "      <th>4</th>\n",
       "      <td>4</td>\n",
       "      <td>Options (feat. 24kGoldn)</td>\n",
       "      <td>24kGoldn</td>\n",
       "      <td>spotify:track:6bhgpD7OkCATudfKJ50JB6</td>\n",
       "      <td>0.768</td>\n",
       "      <td>0.781</td>\n",
       "      <td>-5.873</td>\n",
       "      <td>0.1540</td>\n",
       "      <td>0.1020</td>\n",
       "      <td>0.000000</td>\n",
       "      <td>0.0840</td>\n",
       "      <td>0.795</td>\n",
       "      <td>163.984</td>\n",
       "      <td>5</td>\n",
       "    </tr>\n",
       "    <tr>\n",
       "      <th>...</th>\n",
       "      <td>...</td>\n",
       "      <td>...</td>\n",
       "      <td>...</td>\n",
       "      <td>...</td>\n",
       "      <td>...</td>\n",
       "      <td>...</td>\n",
       "      <td>...</td>\n",
       "      <td>...</td>\n",
       "      <td>...</td>\n",
       "      <td>...</td>\n",
       "      <td>...</td>\n",
       "      <td>...</td>\n",
       "      <td>...</td>\n",
       "      <td>...</td>\n",
       "    </tr>\n",
       "    <tr>\n",
       "      <th>4400</th>\n",
       "      <td>78</td>\n",
       "      <td>Pass The Peas</td>\n",
       "      <td>The J.B.'s</td>\n",
       "      <td>spotify:track:7CjV22bm1Vx0guKm2HV3OD</td>\n",
       "      <td>0.561</td>\n",
       "      <td>0.311</td>\n",
       "      <td>-14.981</td>\n",
       "      <td>0.2650</td>\n",
       "      <td>0.2600</td>\n",
       "      <td>0.000237</td>\n",
       "      <td>0.3530</td>\n",
       "      <td>0.702</td>\n",
       "      <td>195.996</td>\n",
       "      <td>4</td>\n",
       "    </tr>\n",
       "    <tr>\n",
       "      <th>4401</th>\n",
       "      <td>79</td>\n",
       "      <td>Luscious Lady</td>\n",
       "      <td>Darondo</td>\n",
       "      <td>spotify:track:23LN1l3UQ4Qjg3YPzN8Yi7</td>\n",
       "      <td>0.698</td>\n",
       "      <td>0.669</td>\n",
       "      <td>-7.318</td>\n",
       "      <td>0.0445</td>\n",
       "      <td>0.0681</td>\n",
       "      <td>0.007890</td>\n",
       "      <td>0.0975</td>\n",
       "      <td>0.864</td>\n",
       "      <td>100.300</td>\n",
       "      <td>4</td>\n",
       "    </tr>\n",
       "    <tr>\n",
       "      <th>4402</th>\n",
       "      <td>80</td>\n",
       "      <td>Bustin' Out (On Funk)</td>\n",
       "      <td>Rick James</td>\n",
       "      <td>spotify:track:0wYo8gcZCREyPoWOv0FzCX</td>\n",
       "      <td>0.726</td>\n",
       "      <td>0.698</td>\n",
       "      <td>-9.761</td>\n",
       "      <td>0.1090</td>\n",
       "      <td>0.1810</td>\n",
       "      <td>0.000001</td>\n",
       "      <td>0.2270</td>\n",
       "      <td>0.882</td>\n",
       "      <td>102.955</td>\n",
       "      <td>4</td>\n",
       "    </tr>\n",
       "    <tr>\n",
       "      <th>4403</th>\n",
       "      <td>81</td>\n",
       "      <td>Hyperbolicsyllablecsesquedalymistic - Album - ...</td>\n",
       "      <td>Isaac Hayes</td>\n",
       "      <td>spotify:track:1ZV8wsmSwudU1LmwpkoWxD</td>\n",
       "      <td>0.571</td>\n",
       "      <td>0.643</td>\n",
       "      <td>-7.243</td>\n",
       "      <td>0.0365</td>\n",
       "      <td>0.0315</td>\n",
       "      <td>0.030400</td>\n",
       "      <td>0.1100</td>\n",
       "      <td>0.662</td>\n",
       "      <td>178.341</td>\n",
       "      <td>4</td>\n",
       "    </tr>\n",
       "    <tr>\n",
       "      <th>4404</th>\n",
       "      <td>82</td>\n",
       "      <td>Funky Drummer - Pt. 1 &amp; 2</td>\n",
       "      <td>James Brown</td>\n",
       "      <td>spotify:track:3iAufGxOfonBxbW2tsD64i</td>\n",
       "      <td>0.667</td>\n",
       "      <td>0.519</td>\n",
       "      <td>-14.370</td>\n",
       "      <td>0.0675</td>\n",
       "      <td>0.3290</td>\n",
       "      <td>0.421000</td>\n",
       "      <td>0.0478</td>\n",
       "      <td>0.604</td>\n",
       "      <td>99.526</td>\n",
       "      <td>4</td>\n",
       "    </tr>\n",
       "  </tbody>\n",
       "</table>\n",
       "<p>4405 rows × 14 columns</p>\n",
       "</div>"
      ],
      "text/plain": [
       "      Unnamed: 0                                         track_name  \\\n",
       "0              0       The Joker And The Queen (feat. Taylor Swift)   \n",
       "1              1       The Joker And The Queen (feat. Taylor Swift)   \n",
       "2              2                                            Zo Zijn   \n",
       "3              3                           Options (feat. 24kGoldn)   \n",
       "4              4                           Options (feat. 24kGoldn)   \n",
       "...          ...                                                ...   \n",
       "4400          78                                      Pass The Peas   \n",
       "4401          79                                      Luscious Lady   \n",
       "4402          80                              Bustin' Out (On Funk)   \n",
       "4403          81  Hyperbolicsyllablecsesquedalymistic - Album - ...   \n",
       "4404          82                          Funky Drummer - Pt. 1 & 2   \n",
       "\n",
       "         artist_name                             track_uri  danceability  \\\n",
       "0         Ed Sheeran  spotify:track:6N1K5OVVCopBjGViHs2IvP         0.528   \n",
       "1       Taylor Swift  spotify:track:6N1K5OVVCopBjGViHs2IvP         0.528   \n",
       "2                sor  spotify:track:1q30hUyUUZyjytlKTJz4cI         0.411   \n",
       "3     Internet Money  spotify:track:6bhgpD7OkCATudfKJ50JB6         0.768   \n",
       "4           24kGoldn  spotify:track:6bhgpD7OkCATudfKJ50JB6         0.768   \n",
       "...              ...                                   ...           ...   \n",
       "4400      The J.B.'s  spotify:track:7CjV22bm1Vx0guKm2HV3OD         0.561   \n",
       "4401         Darondo  spotify:track:23LN1l3UQ4Qjg3YPzN8Yi7         0.698   \n",
       "4402      Rick James  spotify:track:0wYo8gcZCREyPoWOv0FzCX         0.726   \n",
       "4403     Isaac Hayes  spotify:track:1ZV8wsmSwudU1LmwpkoWxD         0.571   \n",
       "4404     James Brown  spotify:track:3iAufGxOfonBxbW2tsD64i         0.667   \n",
       "\n",
       "      energy  loudness  speechiness  acousticness  instrumentalness  liveness  \\\n",
       "0      0.309    -7.398       0.0329        0.9240          0.000002    0.2820   \n",
       "1      0.309    -7.398       0.0329        0.9240          0.000002    0.2820   \n",
       "2      0.507    -9.190       0.3360        0.6400          0.000000    0.1480   \n",
       "3      0.781    -5.873       0.1540        0.1020          0.000000    0.0840   \n",
       "4      0.781    -5.873       0.1540        0.1020          0.000000    0.0840   \n",
       "...      ...       ...          ...           ...               ...       ...   \n",
       "4400   0.311   -14.981       0.2650        0.2600          0.000237    0.3530   \n",
       "4401   0.669    -7.318       0.0445        0.0681          0.007890    0.0975   \n",
       "4402   0.698    -9.761       0.1090        0.1810          0.000001    0.2270   \n",
       "4403   0.643    -7.243       0.0365        0.0315          0.030400    0.1100   \n",
       "4404   0.519   -14.370       0.0675        0.3290          0.421000    0.0478   \n",
       "\n",
       "      valence    tempo  time_signature  \n",
       "0       0.307  133.830               4  \n",
       "1       0.307  133.830               4  \n",
       "2       0.291   80.120               4  \n",
       "3       0.795  163.984               5  \n",
       "4       0.795  163.984               5  \n",
       "...       ...      ...             ...  \n",
       "4400    0.702  195.996               4  \n",
       "4401    0.864  100.300               4  \n",
       "4402    0.882  102.955               4  \n",
       "4403    0.662  178.341               4  \n",
       "4404    0.604   99.526               4  \n",
       "\n",
       "[4405 rows x 14 columns]"
      ]
     },
     "execution_count": 22,
     "metadata": {},
     "output_type": "execute_result"
    }
   ],
   "source": [
    "full_data"
   ]
  },
  {
   "cell_type": "code",
   "execution_count": 23,
   "id": "fe149d77",
   "metadata": {},
   "outputs": [
    {
     "data": {
      "text/html": [
       "<div>\n",
       "<style scoped>\n",
       "    .dataframe tbody tr th:only-of-type {\n",
       "        vertical-align: middle;\n",
       "    }\n",
       "\n",
       "    .dataframe tbody tr th {\n",
       "        vertical-align: top;\n",
       "    }\n",
       "\n",
       "    .dataframe thead th {\n",
       "        text-align: right;\n",
       "    }\n",
       "</style>\n",
       "<table border=\"1\" class=\"dataframe\">\n",
       "  <thead>\n",
       "    <tr style=\"text-align: right;\">\n",
       "      <th></th>\n",
       "      <th>danceability</th>\n",
       "      <th>energy</th>\n",
       "      <th>loudness</th>\n",
       "      <th>speechiness</th>\n",
       "      <th>acousticness</th>\n",
       "      <th>instrumentalness</th>\n",
       "      <th>liveness</th>\n",
       "      <th>valence</th>\n",
       "      <th>tempo</th>\n",
       "      <th>time_signature</th>\n",
       "    </tr>\n",
       "  </thead>\n",
       "  <tbody>\n",
       "    <tr>\n",
       "      <th>0</th>\n",
       "      <td>0.528</td>\n",
       "      <td>0.309</td>\n",
       "      <td>-7.398</td>\n",
       "      <td>0.0329</td>\n",
       "      <td>0.9240</td>\n",
       "      <td>0.000002</td>\n",
       "      <td>0.2820</td>\n",
       "      <td>0.307</td>\n",
       "      <td>133.830</td>\n",
       "      <td>4</td>\n",
       "    </tr>\n",
       "    <tr>\n",
       "      <th>1</th>\n",
       "      <td>0.528</td>\n",
       "      <td>0.309</td>\n",
       "      <td>-7.398</td>\n",
       "      <td>0.0329</td>\n",
       "      <td>0.9240</td>\n",
       "      <td>0.000002</td>\n",
       "      <td>0.2820</td>\n",
       "      <td>0.307</td>\n",
       "      <td>133.830</td>\n",
       "      <td>4</td>\n",
       "    </tr>\n",
       "    <tr>\n",
       "      <th>2</th>\n",
       "      <td>0.411</td>\n",
       "      <td>0.507</td>\n",
       "      <td>-9.190</td>\n",
       "      <td>0.3360</td>\n",
       "      <td>0.6400</td>\n",
       "      <td>0.000000</td>\n",
       "      <td>0.1480</td>\n",
       "      <td>0.291</td>\n",
       "      <td>80.120</td>\n",
       "      <td>4</td>\n",
       "    </tr>\n",
       "    <tr>\n",
       "      <th>3</th>\n",
       "      <td>0.768</td>\n",
       "      <td>0.781</td>\n",
       "      <td>-5.873</td>\n",
       "      <td>0.1540</td>\n",
       "      <td>0.1020</td>\n",
       "      <td>0.000000</td>\n",
       "      <td>0.0840</td>\n",
       "      <td>0.795</td>\n",
       "      <td>163.984</td>\n",
       "      <td>5</td>\n",
       "    </tr>\n",
       "    <tr>\n",
       "      <th>4</th>\n",
       "      <td>0.768</td>\n",
       "      <td>0.781</td>\n",
       "      <td>-5.873</td>\n",
       "      <td>0.1540</td>\n",
       "      <td>0.1020</td>\n",
       "      <td>0.000000</td>\n",
       "      <td>0.0840</td>\n",
       "      <td>0.795</td>\n",
       "      <td>163.984</td>\n",
       "      <td>5</td>\n",
       "    </tr>\n",
       "    <tr>\n",
       "      <th>...</th>\n",
       "      <td>...</td>\n",
       "      <td>...</td>\n",
       "      <td>...</td>\n",
       "      <td>...</td>\n",
       "      <td>...</td>\n",
       "      <td>...</td>\n",
       "      <td>...</td>\n",
       "      <td>...</td>\n",
       "      <td>...</td>\n",
       "      <td>...</td>\n",
       "    </tr>\n",
       "    <tr>\n",
       "      <th>4400</th>\n",
       "      <td>0.561</td>\n",
       "      <td>0.311</td>\n",
       "      <td>-14.981</td>\n",
       "      <td>0.2650</td>\n",
       "      <td>0.2600</td>\n",
       "      <td>0.000237</td>\n",
       "      <td>0.3530</td>\n",
       "      <td>0.702</td>\n",
       "      <td>195.996</td>\n",
       "      <td>4</td>\n",
       "    </tr>\n",
       "    <tr>\n",
       "      <th>4401</th>\n",
       "      <td>0.698</td>\n",
       "      <td>0.669</td>\n",
       "      <td>-7.318</td>\n",
       "      <td>0.0445</td>\n",
       "      <td>0.0681</td>\n",
       "      <td>0.007890</td>\n",
       "      <td>0.0975</td>\n",
       "      <td>0.864</td>\n",
       "      <td>100.300</td>\n",
       "      <td>4</td>\n",
       "    </tr>\n",
       "    <tr>\n",
       "      <th>4402</th>\n",
       "      <td>0.726</td>\n",
       "      <td>0.698</td>\n",
       "      <td>-9.761</td>\n",
       "      <td>0.1090</td>\n",
       "      <td>0.1810</td>\n",
       "      <td>0.000001</td>\n",
       "      <td>0.2270</td>\n",
       "      <td>0.882</td>\n",
       "      <td>102.955</td>\n",
       "      <td>4</td>\n",
       "    </tr>\n",
       "    <tr>\n",
       "      <th>4403</th>\n",
       "      <td>0.571</td>\n",
       "      <td>0.643</td>\n",
       "      <td>-7.243</td>\n",
       "      <td>0.0365</td>\n",
       "      <td>0.0315</td>\n",
       "      <td>0.030400</td>\n",
       "      <td>0.1100</td>\n",
       "      <td>0.662</td>\n",
       "      <td>178.341</td>\n",
       "      <td>4</td>\n",
       "    </tr>\n",
       "    <tr>\n",
       "      <th>4404</th>\n",
       "      <td>0.667</td>\n",
       "      <td>0.519</td>\n",
       "      <td>-14.370</td>\n",
       "      <td>0.0675</td>\n",
       "      <td>0.3290</td>\n",
       "      <td>0.421000</td>\n",
       "      <td>0.0478</td>\n",
       "      <td>0.604</td>\n",
       "      <td>99.526</td>\n",
       "      <td>4</td>\n",
       "    </tr>\n",
       "  </tbody>\n",
       "</table>\n",
       "<p>4405 rows × 10 columns</p>\n",
       "</div>"
      ],
      "text/plain": [
       "      danceability  energy  loudness  speechiness  acousticness  \\\n",
       "0            0.528   0.309    -7.398       0.0329        0.9240   \n",
       "1            0.528   0.309    -7.398       0.0329        0.9240   \n",
       "2            0.411   0.507    -9.190       0.3360        0.6400   \n",
       "3            0.768   0.781    -5.873       0.1540        0.1020   \n",
       "4            0.768   0.781    -5.873       0.1540        0.1020   \n",
       "...            ...     ...       ...          ...           ...   \n",
       "4400         0.561   0.311   -14.981       0.2650        0.2600   \n",
       "4401         0.698   0.669    -7.318       0.0445        0.0681   \n",
       "4402         0.726   0.698    -9.761       0.1090        0.1810   \n",
       "4403         0.571   0.643    -7.243       0.0365        0.0315   \n",
       "4404         0.667   0.519   -14.370       0.0675        0.3290   \n",
       "\n",
       "      instrumentalness  liveness  valence    tempo  time_signature  \n",
       "0             0.000002    0.2820    0.307  133.830               4  \n",
       "1             0.000002    0.2820    0.307  133.830               4  \n",
       "2             0.000000    0.1480    0.291   80.120               4  \n",
       "3             0.000000    0.0840    0.795  163.984               5  \n",
       "4             0.000000    0.0840    0.795  163.984               5  \n",
       "...                ...       ...      ...      ...             ...  \n",
       "4400          0.000237    0.3530    0.702  195.996               4  \n",
       "4401          0.007890    0.0975    0.864  100.300               4  \n",
       "4402          0.000001    0.2270    0.882  102.955               4  \n",
       "4403          0.030400    0.1100    0.662  178.341               4  \n",
       "4404          0.421000    0.0478    0.604   99.526               4  \n",
       "\n",
       "[4405 rows x 10 columns]"
      ]
     },
     "execution_count": 23,
     "metadata": {},
     "output_type": "execute_result"
    }
   ],
   "source": [
    "X = full_data.drop(['Unnamed: 0', 'track_name', 'artist_name', 'track_uri'], axis=1)\n",
    "X"
   ]
  },
  {
   "cell_type": "code",
   "execution_count": 24,
   "id": "7e577629",
   "metadata": {},
   "outputs": [],
   "source": [
    "from sklearn.preprocessing import StandardScaler\n",
    "X_prep = StandardScaler().fit_transform(X)"
   ]
  },
  {
   "cell_type": "markdown",
   "id": "7af5c983",
   "metadata": {},
   "source": [
    "# KMEANS"
   ]
  },
  {
   "cell_type": "code",
   "execution_count": 25,
   "id": "217d5103",
   "metadata": {},
   "outputs": [
    {
     "data": {
      "text/plain": [
       "KMeans(n_clusters=3, random_state=1234)"
      ]
     },
     "execution_count": 25,
     "metadata": {},
     "output_type": "execute_result"
    }
   ],
   "source": [
    "from sklearn.cluster import KMeans\n",
    "\n",
    "kmeans = KMeans(n_clusters=3, random_state=1234)\n",
    "kmeans.fit(X_prep)"
   ]
  },
  {
   "cell_type": "code",
   "execution_count": 26,
   "id": "677d869e",
   "metadata": {},
   "outputs": [
    {
     "data": {
      "text/plain": [
       "0    2710\n",
       "1    1352\n",
       "2     343\n",
       "dtype: int64"
      ]
     },
     "execution_count": 26,
     "metadata": {},
     "output_type": "execute_result"
    }
   ],
   "source": [
    "# Predicting / assigning the clusters:\n",
    "clusters = kmeans.predict(X_prep)\n",
    "\n",
    "# Check the size of the clusters\n",
    "pd.Series(clusters).value_counts().sort_index()"
   ]
  },
  {
   "cell_type": "markdown",
   "id": "1bb89d75",
   "metadata": {},
   "source": [
    "### Choosing k"
   ]
  },
  {
   "cell_type": "code",
   "execution_count": 27,
   "id": "fb0f1ba6",
   "metadata": {},
   "outputs": [
    {
     "data": {
      "text/plain": [
       "Text(0.5, 1.0, 'Elbow Method showing the optimal k')"
      ]
     },
     "execution_count": 27,
     "metadata": {},
     "output_type": "execute_result"
    },
    {
     "data": {
      "image/png": "[encoded data removed]",
      "text/plain": [
       "<Figure size 1152x576 with 1 Axes>"
      ]
     },
     "metadata": {
      "needs_background": "light"
     },
     "output_type": "display_data"
    }
   ],
   "source": [
    "import numpy as np\n",
    "K = range(2, 20)\n",
    "inertia = []\n",
    "\n",
    "for k in K:\n",
    "    kmeans = KMeans(n_clusters=k,\n",
    "                    random_state=1234)\n",
    "    kmeans.fit(X_prep)\n",
    "    inertia.append(kmeans.inertia_)\n",
    "\n",
    "import matplotlib.pyplot as plt\n",
    "%matplotlib inline\n",
    "\n",
    "plt.figure(figsize=(16,8))\n",
    "plt.plot(K, inertia, 'bx-')\n",
    "plt.xlabel('k')\n",
    "plt.ylabel('inertia')\n",
    "plt.xticks(np.arange(min(K), max(K)+1, 1.0))\n",
    "plt.title('Elbow Method showing the optimal k')"
   ]
  },
  {
   "cell_type": "code",
   "execution_count": 28,
   "id": "82313426",
   "metadata": {},
   "outputs": [
    {
     "data": {
      "text/plain": [
       "Text(0.5, 1.0, 'Silhouette score showing the optimal k')"
      ]
     },
     "execution_count": 28,
     "metadata": {},
     "output_type": "execute_result"
    },
    {
     "data": {
      "image/png": "[encoded data removed]",
      "text/plain": [
       "<Figure size 1152x576 with 1 Axes>"
      ]
     },
     "metadata": {
      "needs_background": "light"
     },
     "output_type": "display_data"
    }
   ],
   "source": [
    "from sklearn.metrics import silhouette_score\n",
    "K = range(2, 20)\n",
    "silhouette = []\n",
    "\n",
    "for k in K:\n",
    "    kmeans = KMeans(n_clusters=k,\n",
    "                    random_state=1234)\n",
    "    kmeans.fit(X_prep)\n",
    "    silhouette.append(silhouette_score(X_prep, kmeans.predict(X_prep)))\n",
    "\n",
    "\n",
    "plt.figure(figsize=(16,8))\n",
    "plt.plot(K, silhouette, 'bx-')\n",
    "plt.xlabel('k')\n",
    "plt.ylabel('silhouette score')\n",
    "plt.xticks(np.arange(min(K), max(K)+1, 1.0))\n",
    "plt.title('Silhouette score showing the optimal k')"
   ]
  },
  {
   "cell_type": "markdown",
   "id": "5802159e",
   "metadata": {},
   "source": [
    "With such an evolution of the silhouette score It is difficult to find the best compromise between silhouette and inertia.\n",
    "I would say the best compromis is probably k=4 even if the elbow is not that significant for the inertia."
   ]
  },
  {
   "cell_type": "markdown",
   "id": "9fede12b",
   "metadata": {},
   "source": [
    "# Agglomerative Clustering"
   ]
  },
  {
   "cell_type": "markdown",
   "id": "303757ee",
   "metadata": {},
   "source": [
    "### Linkage Single"
   ]
  },
  {
   "cell_type": "code",
   "execution_count": 35,
   "id": "4fe51f72",
   "metadata": {},
   "outputs": [],
   "source": [
    "single = cluster.AgglomerativeClustering(n_clusters=4, linkage='single')\n",
    "clusters_agg_single = single.fit_predict(X_prep)"
   ]
  },
  {
   "cell_type": "code",
   "execution_count": 36,
   "id": "fb0d6262",
   "metadata": {},
   "outputs": [
    {
     "data": {
      "text/plain": [
       "0    4323\n",
       "1       2\n",
       "2      79\n",
       "3       1\n",
       "dtype: int64"
      ]
     },
     "execution_count": 36,
     "metadata": {},
     "output_type": "execute_result"
    }
   ],
   "source": [
    "pd.Series(clusters_agg_single).value_counts().sort_index()"
   ]
  },
  {
   "cell_type": "markdown",
   "id": "7be52805",
   "metadata": {},
   "source": [
    "### Linkage Ward"
   ]
  },
  {
   "cell_type": "code",
   "execution_count": 37,
   "id": "62f70adb",
   "metadata": {},
   "outputs": [
    {
     "data": {
      "text/plain": [
       "0    1301\n",
       "1    2432\n",
       "2     155\n",
       "3     517\n",
       "dtype: int64"
      ]
     },
     "execution_count": 37,
     "metadata": {},
     "output_type": "execute_result"
    }
   ],
   "source": [
    "ward = cluster.AgglomerativeClustering(n_clusters=4, linkage='ward')\n",
    "clusters_agg_ward = ward.fit_predict(X_prep)\n",
    "pd.Series(clusters_agg_ward).value_counts().sort_index()"
   ]
  },
  {
   "cell_type": "code",
   "execution_count": 38,
   "id": "be5bc4f1",
   "metadata": {},
   "outputs": [
    {
     "data": {
      "text/plain": [
       "0    2432\n",
       "1    1221\n",
       "2     155\n",
       "3     517\n",
       "4      80\n",
       "dtype: int64"
      ]
     },
     "execution_count": 38,
     "metadata": {},
     "output_type": "execute_result"
    }
   ],
   "source": [
    "ward = cluster.AgglomerativeClustering(n_clusters=5, linkage='ward')\n",
    "clusters_agg_ward = ward.fit_predict(X_prep)\n",
    "pd.Series(clusters_agg_ward).value_counts().sort_index()"
   ]
  },
  {
   "cell_type": "code",
   "execution_count": 39,
   "id": "fe8737ba",
   "metadata": {},
   "outputs": [
    {
     "data": {
      "text/plain": [
       "0    1027\n",
       "1     517\n",
       "2     494\n",
       "3     490\n",
       "4      80\n",
       "5     155\n",
       "6     624\n",
       "7     530\n",
       "8     237\n",
       "9     251\n",
       "dtype: int64"
      ]
     },
     "execution_count": 39,
     "metadata": {},
     "output_type": "execute_result"
    }
   ],
   "source": [
    "ward = cluster.AgglomerativeClustering(n_clusters=10, linkage='ward')\n",
    "clusters_agg_ward = ward.fit_predict(X_prep)\n",
    "pd.Series(clusters_agg_ward).value_counts().sort_index()"
   ]
  },
  {
   "cell_type": "code",
   "execution_count": null,
   "id": "9487e4cd",
   "metadata": {},
   "outputs": [],
   "source": []
  }
 ],
 "metadata": {
  "kernelspec": {
   "display_name": "Python 3 (ipykernel)",
   "language": "python",
   "name": "python3"
  },
  "language_info": {
   "codemirror_mode": {
    "name": "ipython",
    "version": 3
   },
   "file_extension": ".py",
   "mimetype": "text/x-python",
   "name": "python",
   "nbconvert_exporter": "python",
   "pygments_lexer": "ipython3",
   "version": "3.9.7"
  }
 },
 "nbformat": 4,
 "nbformat_minor": 5
}
