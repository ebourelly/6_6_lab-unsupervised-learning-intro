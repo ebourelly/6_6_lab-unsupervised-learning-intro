{
 "cells": [
  {
   "cell_type": "code",
   "execution_count": 1,
   "id": "60b5c799",
   "metadata": {},
   "outputs": [],
   "source": [
    "import requests\n",
    "import pandas as pd\n",
    "from random import randint\n",
    "import spotipy\n",
    "from spotipy.oauth2 import SpotifyClientCredentials\n",
    "import getpass"
   ]
  },
  {
   "cell_type": "code",
   "execution_count": 2,
   "id": "77aeb4aa",
   "metadata": {},
   "outputs": [
    {
     "name": "stdout",
     "output_type": "stream",
     "text": [
      "········\n"
     ]
    }
   ],
   "source": [
    "c_id = getpass.getpass()"
   ]
  },
  {
   "cell_type": "code",
   "execution_count": 3,
   "id": "2a3b29d8",
   "metadata": {},
   "outputs": [
    {
     "name": "stdout",
     "output_type": "stream",
     "text": [
      "········\n"
     ]
    }
   ],
   "source": [
    "c_secret = getpass.getpass()"
   ]
  },
  {
   "cell_type": "code",
   "execution_count": 4,
   "id": "befd815c",
   "metadata": {},
   "outputs": [],
   "source": [
    "sp = spotipy.Spotify(auth_manager=SpotifyClientCredentials(client_id=c_id,client_secret=c_secret))"
   ]
  },
  {
   "cell_type": "code",
   "execution_count": 5,
   "id": "a845ef47",
   "metadata": {},
   "outputs": [],
   "source": [
    "popvortex_100 = pd.read_csv('C:/Users/ebour/Documents/()_Ironhack DA Bootcamp/()_Labs/6_1_lab-web-scraping-single-page/popvortex_100.csv')"
   ]
  },
  {
   "cell_type": "code",
   "execution_count": 18,
   "id": "72adbf93",
   "metadata": {},
   "outputs": [],
   "source": [
    "suggestion_database = pd.read_csv('clusterized_data.csv')"
   ]
  },
  {
   "cell_type": "code",
   "execution_count": 24,
   "id": "f6a8d8ee",
   "metadata": {},
   "outputs": [
    {
     "data": {
      "text/html": [
       "<div>\n",
       "<style scoped>\n",
       "    .dataframe tbody tr th:only-of-type {\n",
       "        vertical-align: middle;\n",
       "    }\n",
       "\n",
       "    .dataframe tbody tr th {\n",
       "        vertical-align: top;\n",
       "    }\n",
       "\n",
       "    .dataframe thead th {\n",
       "        text-align: right;\n",
       "    }\n",
       "</style>\n",
       "<table border=\"1\" class=\"dataframe\">\n",
       "  <thead>\n",
       "    <tr style=\"text-align: right;\">\n",
       "      <th></th>\n",
       "      <th>track_name</th>\n",
       "      <th>artist_name</th>\n",
       "      <th>cluster</th>\n",
       "    </tr>\n",
       "  </thead>\n",
       "  <tbody>\n",
       "    <tr>\n",
       "      <th>0</th>\n",
       "      <td>The Joker And The Queen (feat. Taylor Swift)</td>\n",
       "      <td>Ed Sheeran</td>\n",
       "      <td>2</td>\n",
       "    </tr>\n",
       "    <tr>\n",
       "      <th>1</th>\n",
       "      <td>The Joker And The Queen (feat. Taylor Swift)</td>\n",
       "      <td>Taylor Swift</td>\n",
       "      <td>2</td>\n",
       "    </tr>\n",
       "    <tr>\n",
       "      <th>2</th>\n",
       "      <td>Zo Zijn</td>\n",
       "      <td>sor</td>\n",
       "      <td>0</td>\n",
       "    </tr>\n",
       "    <tr>\n",
       "      <th>3</th>\n",
       "      <td>Options (feat. 24kGoldn)</td>\n",
       "      <td>Internet Money</td>\n",
       "      <td>0</td>\n",
       "    </tr>\n",
       "    <tr>\n",
       "      <th>4</th>\n",
       "      <td>Options (feat. 24kGoldn)</td>\n",
       "      <td>24kGoldn</td>\n",
       "      <td>0</td>\n",
       "    </tr>\n",
       "    <tr>\n",
       "      <th>...</th>\n",
       "      <td>...</td>\n",
       "      <td>...</td>\n",
       "      <td>...</td>\n",
       "    </tr>\n",
       "    <tr>\n",
       "      <th>8616</th>\n",
       "      <td>Champagne Life</td>\n",
       "      <td>Ne-Yo</td>\n",
       "      <td>9</td>\n",
       "    </tr>\n",
       "    <tr>\n",
       "      <th>8617</th>\n",
       "      <td>O Let's Do It</td>\n",
       "      <td>Waka Flocka Flame</td>\n",
       "      <td>0</td>\n",
       "    </tr>\n",
       "    <tr>\n",
       "      <th>8618</th>\n",
       "      <td>Fistful of Tears</td>\n",
       "      <td>Maxwell</td>\n",
       "      <td>9</td>\n",
       "    </tr>\n",
       "    <tr>\n",
       "      <th>8619</th>\n",
       "      <td>Lemonade</td>\n",
       "      <td>Gucci Mane</td>\n",
       "      <td>3</td>\n",
       "    </tr>\n",
       "    <tr>\n",
       "      <th>8620</th>\n",
       "      <td>Roger That</td>\n",
       "      <td>Young Money</td>\n",
       "      <td>7</td>\n",
       "    </tr>\n",
       "  </tbody>\n",
       "</table>\n",
       "<p>8621 rows × 3 columns</p>\n",
       "</div>"
      ],
      "text/plain": [
       "                                        track_name        artist_name  cluster\n",
       "0     The Joker And The Queen (feat. Taylor Swift)         Ed Sheeran        2\n",
       "1     The Joker And The Queen (feat. Taylor Swift)       Taylor Swift        2\n",
       "2                                          Zo Zijn                sor        0\n",
       "3                         Options (feat. 24kGoldn)     Internet Money        0\n",
       "4                         Options (feat. 24kGoldn)           24kGoldn        0\n",
       "...                                            ...                ...      ...\n",
       "8616                                Champagne Life              Ne-Yo        9\n",
       "8617                                 O Let's Do It  Waka Flocka Flame        0\n",
       "8618                              Fistful of Tears            Maxwell        9\n",
       "8619                                      Lemonade         Gucci Mane        3\n",
       "8620                                    Roger That        Young Money        7\n",
       "\n",
       "[8621 rows x 3 columns]"
      ]
     },
     "execution_count": 24,
     "metadata": {},
     "output_type": "execute_result"
    }
   ],
   "source": [
    "suggestion_database"
   ]
  },
  {
   "cell_type": "markdown",
   "id": "dc67959b",
   "metadata": {},
   "source": [
    "# MVP"
   ]
  },
  {
   "cell_type": "code",
   "execution_count": 19,
   "id": "32381a98",
   "metadata": {},
   "outputs": [],
   "source": [
    "import pickle\n",
    "filename = 'spotify_cluster_model.sav'\n",
    "cluster_model = pickle.load(open(filename, 'rb'))"
   ]
  },
  {
   "cell_type": "code",
   "execution_count": 20,
   "id": "3905f118",
   "metadata": {},
   "outputs": [],
   "source": [
    "filename_scaler = 'spotify_scaler.sav'\n",
    "scaler = pickle.load(open(filename_scaler, 'rb'))"
   ]
  },
  {
   "cell_type": "code",
   "execution_count": 34,
   "id": "322ecfdc",
   "metadata": {},
   "outputs": [],
   "source": [
    "def song_advice():\n",
    "    song_input = input('Please fill in the name of a song you like :')\n",
    "    song_input = song_input.lower()\n",
    "    top_100_check = popvortex_100[popvortex_100['title'] == song_input]\n",
    "    \n",
    "    if len(top_100_check['title']) > 0 :\n",
    "        i = randint(1,100)\n",
    "        while popvortex_100['title'][i] == song_input:   # used to avoid advising the same song as the input\n",
    "            i = randint(1,100)\n",
    "        proposed_title = popvortex_100['title'][i]\n",
    "        proposed_artist = popvortex_100['artist'][index]\n",
    "        output = 'Great choice ! This song is in the PopVortex Top 100. You should listen to ' + proposed_title + ' by ' + proposed_artist + '. You might like it !'\n",
    "    \n",
    "    else :\n",
    "        res = sp.search(q='track:' + song_input, type='track')\n",
    "        data = pd.DataFrame(res['tracks']['items'])\n",
    "        if len(data) == 0:\n",
    "            output = 'We are sorry, but we cannot find any song with this name. Please try again.'\n",
    "        else:\n",
    "            data['name'] = data['name'].apply(lambda x: x.lower())\n",
    "            data = data[data['name'] == song_input].reset_index(drop = True)\n",
    "            track_id = None\n",
    "            if len(data['artists'])>1:\n",
    "                artist_input = input('Please fill in the name of the artist :')\n",
    "                artist_input = artist_input.lower()\n",
    "                for i in range(len(data['artists'])):\n",
    "                    art = data['artists'][i][0]['name'].lower()\n",
    "                    if art == artist_input:\n",
    "                        track_id = data['id'][i]\n",
    "                        break\n",
    "            else:\n",
    "                track_id =  data['id'][0]\n",
    "            track_uri = 'spotify:track:' + track_id\n",
    "            audio_features = pd.DataFrame(sp.audio_features(track_uri)[0], index=[0])[['danceability', 'energy', 'loudness', 'speechiness', 'acousticness', 'instrumentalness', 'liveness', 'valence', 'tempo', 'time_signature']]\n",
    "#             audio_features = audio_features[['danceability', 'energy', 'loudness', 'speechiness', 'acousticness', 'instrumentalness', 'liveness', 'valence', 'tempo', 'time_signature']]\n",
    "            audio_feat_prep = scaler.transform(audio_features)\n",
    "            song_input_cluster = cluster_model.predict(audio_feat_prep)[0]\n",
    "            suggestion_list = suggestion_database[suggestion_database['cluster'] == song_input_cluster].reset_index(drop=True)\n",
    "            j = randint(1,len(suggestion_list['track_name']))\n",
    "            while suggestion_list['track_name'][j] == song_input:  #used to avoid advising the same song as the input (if ever in the suggestion list)\n",
    "                j = randint(1,len(suggestion_list['track_name']))\n",
    "            proposed_title = suggestion_list['track_name'][j]\n",
    "            proposed_artist = suggestion_list['artist_name'][j]\n",
    "            output = 'Your song is not in the PopVortex Top 100. Our advice for you is: ' + proposed_title + ' by ' + proposed_artist + '. You might like it !'\n",
    "        \n",
    "    return output"
   ]
  },
  {
   "cell_type": "code",
   "execution_count": 35,
   "id": "5b2e7c2b",
   "metadata": {},
   "outputs": [
    {
     "name": "stdout",
     "output_type": "stream",
     "text": [
      "Please fill in the name of a song you like :Poor Leno\n",
      "Please fill in the name of the artist :Röyksopp\n"
     ]
    },
    {
     "data": {
      "text/plain": [
       "'Your song is not in the PopVortex Top 100. Our advice for you is: 123 (Dolly Song) feat. Karma Child by Rompasso. You might like it !'"
      ]
     },
     "execution_count": 35,
     "metadata": {},
     "output_type": "execute_result"
    }
   ],
   "source": [
    "song_advice()"
   ]
  },
  {
   "cell_type": "code",
   "execution_count": null,
   "id": "5b655683",
   "metadata": {},
   "outputs": [],
   "source": []
  },
  {
   "cell_type": "code",
   "execution_count": null,
   "id": "3b95fa87",
   "metadata": {},
   "outputs": [],
   "source": []
  },
  {
   "cell_type": "code",
   "execution_count": null,
   "id": "d00f0723",
   "metadata": {},
   "outputs": [],
   "source": []
  }
 ],
 "metadata": {
  "kernelspec": {
   "display_name": "Python 3 (ipykernel)",
   "language": "python",
   "name": "python3"
  },
  "language_info": {
   "codemirror_mode": {
    "name": "ipython",
    "version": 3
   },
   "file_extension": ".py",
   "mimetype": "text/x-python",
   "name": "python",
   "nbconvert_exporter": "python",
   "pygments_lexer": "ipython3",
   "version": "3.9.7"
  }
 },
 "nbformat": 4,
 "nbformat_minor": 5
}
