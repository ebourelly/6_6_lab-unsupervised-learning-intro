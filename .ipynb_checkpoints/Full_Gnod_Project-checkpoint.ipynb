{
 "cells": [
  {
   "cell_type": "code",
   "execution_count": 1,
   "id": "b6a95589",
   "metadata": {},
   "outputs": [],
   "source": [
    "import requests\n",
    "import pandas as pd\n",
    "from random import randint\n",
    "import spotipy\n",
    "from spotipy.oauth2 import SpotifyClientCredentials\n",
    "import getpass"
   ]
  },
  {
   "cell_type": "code",
   "execution_count": 2,
   "id": "471aa067",
   "metadata": {},
   "outputs": [
    {
     "name": "stdout",
     "output_type": "stream",
     "text": [
      "········\n"
     ]
    }
   ],
   "source": [
    "c_id = getpass.getpass()"
   ]
  },
  {
   "cell_type": "code",
   "execution_count": 3,
   "id": "547715a4",
   "metadata": {},
   "outputs": [
    {
     "name": "stdout",
     "output_type": "stream",
     "text": [
      "········\n"
     ]
    }
   ],
   "source": [
    "c_secret = getpass.getpass()"
   ]
  },
  {
   "cell_type": "code",
   "execution_count": 4,
   "id": "165ed6ef",
   "metadata": {},
   "outputs": [],
   "source": [
    "sp = spotipy.Spotify(auth_manager=SpotifyClientCredentials(client_id=c_id,client_secret=c_secret))"
   ]
  },
  {
   "cell_type": "code",
   "execution_count": 5,
   "id": "0904c472",
   "metadata": {},
   "outputs": [],
   "source": [
    "popvortex_100 = pd.read_csv('C:/Users/ebour/Documents/()_Ironhack DA Bootcamp/()_Labs/6_1_lab-web-scraping-single-page/popvortex_100.csv')"
   ]
  },
  {
   "cell_type": "code",
   "execution_count": 6,
   "id": "6bc6f4ea",
   "metadata": {},
   "outputs": [],
   "source": [
    "suggestion_database = pd.read_csv('clusterized_data.csv')"
   ]
  },
  {
   "cell_type": "code",
   "execution_count": 7,
   "id": "0d795557",
   "metadata": {},
   "outputs": [
    {
     "data": {
      "text/html": [
       "<div>\n",
       "<style scoped>\n",
       "    .dataframe tbody tr th:only-of-type {\n",
       "        vertical-align: middle;\n",
       "    }\n",
       "\n",
       "    .dataframe tbody tr th {\n",
       "        vertical-align: top;\n",
       "    }\n",
       "\n",
       "    .dataframe thead th {\n",
       "        text-align: right;\n",
       "    }\n",
       "</style>\n",
       "<table border=\"1\" class=\"dataframe\">\n",
       "  <thead>\n",
       "    <tr style=\"text-align: right;\">\n",
       "      <th></th>\n",
       "      <th>track_name</th>\n",
       "      <th>artist_name</th>\n",
       "      <th>cluster</th>\n",
       "    </tr>\n",
       "  </thead>\n",
       "  <tbody>\n",
       "    <tr>\n",
       "      <th>0</th>\n",
       "      <td>The Joker And The Queen (feat. Taylor Swift)</td>\n",
       "      <td>Ed Sheeran</td>\n",
       "      <td>6</td>\n",
       "    </tr>\n",
       "    <tr>\n",
       "      <th>1</th>\n",
       "      <td>The Joker And The Queen (feat. Taylor Swift)</td>\n",
       "      <td>Taylor Swift</td>\n",
       "      <td>6</td>\n",
       "    </tr>\n",
       "    <tr>\n",
       "      <th>2</th>\n",
       "      <td>Zo Zijn</td>\n",
       "      <td>sor</td>\n",
       "      <td>1</td>\n",
       "    </tr>\n",
       "    <tr>\n",
       "      <th>3</th>\n",
       "      <td>Options (feat. 24kGoldn)</td>\n",
       "      <td>Internet Money</td>\n",
       "      <td>0</td>\n",
       "    </tr>\n",
       "    <tr>\n",
       "      <th>4</th>\n",
       "      <td>Options (feat. 24kGoldn)</td>\n",
       "      <td>24kGoldn</td>\n",
       "      <td>0</td>\n",
       "    </tr>\n",
       "    <tr>\n",
       "      <th>...</th>\n",
       "      <td>...</td>\n",
       "      <td>...</td>\n",
       "      <td>...</td>\n",
       "    </tr>\n",
       "    <tr>\n",
       "      <th>9512</th>\n",
       "      <td>Eu Sou a Diva Que Você Quer Copiar</td>\n",
       "      <td>Valesca Popozuda</td>\n",
       "      <td>1</td>\n",
       "    </tr>\n",
       "    <tr>\n",
       "      <th>9513</th>\n",
       "      <td>Tô Mal</td>\n",
       "      <td>César Menotti &amp; Fabiano</td>\n",
       "      <td>2</td>\n",
       "    </tr>\n",
       "    <tr>\n",
       "      <th>9514</th>\n",
       "      <td>A Paz Desse Amor</td>\n",
       "      <td>Paula Fernandes</td>\n",
       "      <td>6</td>\n",
       "    </tr>\n",
       "    <tr>\n",
       "      <th>9515</th>\n",
       "      <td>Eu Ligo Pra Você</td>\n",
       "      <td>Zé Neto &amp; Cristiano</td>\n",
       "      <td>7</td>\n",
       "    </tr>\n",
       "    <tr>\n",
       "      <th>9516</th>\n",
       "      <td>Saudade de Você</td>\n",
       "      <td>Zé Felipe</td>\n",
       "      <td>0</td>\n",
       "    </tr>\n",
       "  </tbody>\n",
       "</table>\n",
       "<p>9517 rows × 3 columns</p>\n",
       "</div>"
      ],
      "text/plain": [
       "                                        track_name              artist_name  \\\n",
       "0     The Joker And The Queen (feat. Taylor Swift)               Ed Sheeran   \n",
       "1     The Joker And The Queen (feat. Taylor Swift)             Taylor Swift   \n",
       "2                                          Zo Zijn                      sor   \n",
       "3                         Options (feat. 24kGoldn)           Internet Money   \n",
       "4                         Options (feat. 24kGoldn)                 24kGoldn   \n",
       "...                                            ...                      ...   \n",
       "9512            Eu Sou a Diva Que Você Quer Copiar         Valesca Popozuda   \n",
       "9513                                        Tô Mal  César Menotti & Fabiano   \n",
       "9514                              A Paz Desse Amor          Paula Fernandes   \n",
       "9515                              Eu Ligo Pra Você      Zé Neto & Cristiano   \n",
       "9516                               Saudade de Você                Zé Felipe   \n",
       "\n",
       "      cluster  \n",
       "0           6  \n",
       "1           6  \n",
       "2           1  \n",
       "3           0  \n",
       "4           0  \n",
       "...       ...  \n",
       "9512        1  \n",
       "9513        2  \n",
       "9514        6  \n",
       "9515        7  \n",
       "9516        0  \n",
       "\n",
       "[9517 rows x 3 columns]"
      ]
     },
     "execution_count": 7,
     "metadata": {},
     "output_type": "execute_result"
    }
   ],
   "source": [
    "suggestion_database"
   ]
  },
  {
   "cell_type": "markdown",
   "id": "d926dd5c",
   "metadata": {},
   "source": [
    "# MVP"
   ]
  },
  {
   "cell_type": "code",
   "execution_count": 8,
   "id": "f003aa9f",
   "metadata": {},
   "outputs": [],
   "source": [
    "import pickle\n",
    "filename = 'spotify_cluster_model.sav'\n",
    "cluster_model = pickle.load(open(filename, 'rb'))"
   ]
  },
  {
   "cell_type": "code",
   "execution_count": 9,
   "id": "8e1e3ab2",
   "metadata": {},
   "outputs": [],
   "source": [
    "filename_scaler = 'spotify_scaler.sav'\n",
    "scaler = pickle.load(open(filename_scaler, 'rb'))"
   ]
  },
  {
   "cell_type": "code",
   "execution_count": 57,
   "id": "47688336",
   "metadata": {},
   "outputs": [],
   "source": [
    "def song_advice():\n",
    "    song_input = input('Please fill in the name of a song you like : ')\n",
    "    song_input = song_input.lower()\n",
    "    top_100_check = popvortex_100[popvortex_100['title'] == song_input]\n",
    "    artist_input=''\n",
    "    \n",
    "    if len(top_100_check['title']) > 0 :\n",
    "        i = randint(1,100)\n",
    "        while popvortex_100['title'][i] == song_input:   # used to avoid advising the same song as the input\n",
    "            i = randint(1,100)\n",
    "        proposed_title = popvortex_100['title'][i]\n",
    "        proposed_artist = popvortex_100['artist'][i]\n",
    "        output = 'Great choice ! This song is in the PopVortex Top 100. You should listen to \"' + proposed_title + '\" by ' + proposed_artist + '. You might like it !'\n",
    "    \n",
    "    else :\n",
    "        res = sp.search(q='track:' + song_input, type='track',limit = 50) \n",
    "        total_songs = res['tracks']['total']\n",
    "        track_id = None\n",
    "        \n",
    "        if total_songs > 50:\n",
    "            artist_input = input('Please fill in the name of a the artist : ')\n",
    "            artist_input = artist_input.lower()\n",
    "            res = sp.search(q='track:' + song_input + ' artist:' + artist_input, type='track',limit = 50)\n",
    "\n",
    "        data = pd.DataFrame(res['tracks']['items'])\n",
    "        data['name'] = data['name'].apply(lambda x: x.lower())\n",
    "        data = data[data['name'] == song_input].reset_index(drop = True)\n",
    "        if len(data['artists']) == 0:\n",
    "             output = 'We are sorry, but we cannot find any song with this name. Please check your spelling or try another song.'\n",
    "        else:\n",
    "            if len(data['artists'])>1:\n",
    "                if artist_input == '':\n",
    "                    artist_input = input('Please fill in the name of the artist : ')\n",
    "                    artist_input = artist_input.lower()\n",
    "                artist_match = False\n",
    "                for i in range(len(data['artists'])):\n",
    "                    art = data['artists'][i][0]['name'].lower()                    \n",
    "                    if art == artist_input:\n",
    "                        track_id = data['id'][i]\n",
    "                        artist_match=True\n",
    "                        break\n",
    "                if artist_match == False:\n",
    "                    output = 'We are sorry, but we cannot find any song with this name and artist. Please check your spelling or try another song.'\n",
    "                    return output\n",
    "            else:\n",
    "                track_id =  data['id'][0]\n",
    "            track_uri = 'spotify:track:' + track_id\n",
    "            audio_features = pd.DataFrame(sp.audio_features(track_uri)[0], index=[0])[['danceability', 'energy', 'loudness', 'speechiness', 'acousticness', 'instrumentalness', 'liveness', 'valence', 'tempo', 'time_signature']]\n",
    "#             audio_features = audio_features[['danceability', 'energy', 'loudness', 'speechiness', 'acousticness', 'instrumentalness', 'liveness', 'valence', 'tempo', 'time_signature']]\n",
    "            audio_feat_prep = scaler.transform(audio_features)\n",
    "            song_input_cluster = cluster_model.predict(audio_feat_prep)[0]\n",
    "            suggestion_list = suggestion_database[suggestion_database['cluster'] == song_input_cluster].reset_index(drop=True)\n",
    "            j = randint(1,len(suggestion_list['track_name']))\n",
    "            while suggestion_list['track_name'][j] == song_input:  #used to avoid advising the same song as the input (if ever in the suggestion list)\n",
    "                j = randint(1,len(suggestion_list['track_name']))\n",
    "            proposed_title = suggestion_list['track_name'][j]\n",
    "            proposed_artist = suggestion_list['artist_name'][j]\n",
    "            output = 'Your song is not in the PopVortex Top 100 but we still have a great advice for you : \"' + proposed_title + '\" by ' + proposed_artist + '. You might like it !'\n",
    "\n",
    "    return output\n",
    "#    return data"
   ]
  },
  {
   "cell_type": "code",
   "execution_count": 59,
   "id": "55ee75dd",
   "metadata": {},
   "outputs": [
    {
     "name": "stdout",
     "output_type": "stream",
     "text": [
      "Please fill in the name of a song you like :restless river\n",
      "Please fill in the name of the artist :the magic numbers\n"
     ]
    },
    {
     "data": {
      "text/plain": [
       "'Your song is not in the PopVortex Top 100. Our advice for you is: \"Favorite Time Of Year\"\" by Joe Sample. You might like it !'"
      ]
     },
     "execution_count": 59,
     "metadata": {},
     "output_type": "execute_result"
    }
   ],
   "source": [
    "song_advice()"
   ]
  },
  {
   "cell_type": "code",
   "execution_count": 51,
   "id": "fb14b8da",
   "metadata": {},
   "outputs": [
    {
     "name": "stdout",
     "output_type": "stream",
     "text": [
      "Please fill in the name of a song you like :où va le monde\n",
      "Please fill in the name of a the artist :la femme\n"
     ]
    },
    {
     "data": {
      "text/plain": [
       "\"Your song is not in the PopVortex Top 100. Our advice for you is: You're Welcome by Dwayne Johnson. You might like it !\""
      ]
     },
     "execution_count": 51,
     "metadata": {},
     "output_type": "execute_result"
    }
   ],
   "source": [
    "song_advice()"
   ]
  },
  {
   "cell_type": "code",
   "execution_count": 60,
   "id": "2dee3b84",
   "metadata": {},
   "outputs": [
    {
     "name": "stdout",
     "output_type": "stream",
     "text": [
      "Please fill in the name of a song you like :swing sahara\n"
     ]
    },
    {
     "data": {
      "text/plain": [
       "'Your song is not in the PopVortex Top 100. Our advice for you is: \"Someday\"\" by Nickelback. You might like it !'"
      ]
     },
     "execution_count": 60,
     "metadata": {},
     "output_type": "execute_result"
    }
   ],
   "source": [
    "song_advice()"
   ]
  },
  {
   "cell_type": "code",
   "execution_count": 61,
   "id": "2b869651",
   "metadata": {},
   "outputs": [
    {
     "name": "stdout",
     "output_type": "stream",
     "text": [
      "Please fill in the name of a song you like :Poor Lazarus\n",
      "Please fill in the name of the artist :Bob Dylan\n"
     ]
    },
    {
     "data": {
      "text/plain": [
       "'We are sorry, but we cannot find any song with this name and artist. Please check your spelling or try another song.'"
      ]
     },
     "execution_count": 61,
     "metadata": {},
     "output_type": "execute_result"
    }
   ],
   "source": [
    "song_advice()"
   ]
  },
  {
   "cell_type": "code",
   "execution_count": null,
   "id": "0cc2eaa7",
   "metadata": {},
   "outputs": [],
   "source": []
  },
  {
   "cell_type": "code",
   "execution_count": null,
   "id": "40e0b0a2",
   "metadata": {},
   "outputs": [],
   "source": []
  }
 ],
 "metadata": {
  "kernelspec": {
   "display_name": "Python 3 (ipykernel)",
   "language": "python",
   "name": "python3"
  },
  "language_info": {
   "codemirror_mode": {
    "name": "ipython",
    "version": 3
   },
   "file_extension": ".py",
   "mimetype": "text/x-python",
   "name": "python",
   "nbconvert_exporter": "python",
   "pygments_lexer": "ipython3",
   "version": "3.9.7"
  }
 },
 "nbformat": 4,
 "nbformat_minor": 5
}
