{
 "cells": [
  {
   "cell_type": "code",
   "execution_count": 2,
   "id": "b6a95589",
   "metadata": {},
   "outputs": [],
   "source": [
    "import requests\n",
    "import pandas as pd\n",
    "from random import randint\n",
    "import spotipy\n",
    "from spotipy.oauth2 import SpotifyClientCredentials\n",
    "import getpass"
   ]
  },
  {
   "cell_type": "code",
   "execution_count": 3,
   "id": "471aa067",
   "metadata": {},
   "outputs": [
    {
     "name": "stdout",
     "output_type": "stream",
     "text": [
      "········\n"
     ]
    }
   ],
   "source": [
    "c_id = getpass.getpass()"
   ]
  },
  {
   "cell_type": "code",
   "execution_count": 4,
   "id": "547715a4",
   "metadata": {},
   "outputs": [
    {
     "name": "stdout",
     "output_type": "stream",
     "text": [
      "········\n"
     ]
    }
   ],
   "source": [
    "c_secret = getpass.getpass()"
   ]
  },
  {
   "cell_type": "code",
   "execution_count": 5,
   "id": "165ed6ef",
   "metadata": {},
   "outputs": [],
   "source": [
    "sp = spotipy.Spotify(auth_manager=SpotifyClientCredentials(client_id=c_id,client_secret=c_secret))"
   ]
  },
  {
   "cell_type": "code",
   "execution_count": 6,
   "id": "0904c472",
   "metadata": {},
   "outputs": [],
   "source": [
    "popvortex_100 = pd.read_csv('C:/Users/ebour/Documents/()_Ironhack DA Bootcamp/()_Labs/6_1_lab-web-scraping-single-page/popvortex_100.csv')"
   ]
  },
  {
   "cell_type": "code",
   "execution_count": 7,
   "id": "6bc6f4ea",
   "metadata": {},
   "outputs": [],
   "source": [
    "suggestion_database = pd.read_csv('clusterized_data.csv')"
   ]
  },
  {
   "cell_type": "code",
   "execution_count": 8,
   "id": "0d795557",
   "metadata": {},
   "outputs": [
    {
     "data": {
      "text/html": [
       "<div>\n",
       "<style scoped>\n",
       "    .dataframe tbody tr th:only-of-type {\n",
       "        vertical-align: middle;\n",
       "    }\n",
       "\n",
       "    .dataframe tbody tr th {\n",
       "        vertical-align: top;\n",
       "    }\n",
       "\n",
       "    .dataframe thead th {\n",
       "        text-align: right;\n",
       "    }\n",
       "</style>\n",
       "<table border=\"1\" class=\"dataframe\">\n",
       "  <thead>\n",
       "    <tr style=\"text-align: right;\">\n",
       "      <th></th>\n",
       "      <th>track_name</th>\n",
       "      <th>artist_name</th>\n",
       "      <th>cluster</th>\n",
       "    </tr>\n",
       "  </thead>\n",
       "  <tbody>\n",
       "    <tr>\n",
       "      <th>0</th>\n",
       "      <td>The Joker And The Queen (feat. Taylor Swift)</td>\n",
       "      <td>Ed Sheeran</td>\n",
       "      <td>0</td>\n",
       "    </tr>\n",
       "    <tr>\n",
       "      <th>1</th>\n",
       "      <td>The Joker And The Queen (feat. Taylor Swift)</td>\n",
       "      <td>Taylor Swift</td>\n",
       "      <td>0</td>\n",
       "    </tr>\n",
       "    <tr>\n",
       "      <th>2</th>\n",
       "      <td>Zo Zijn</td>\n",
       "      <td>sor</td>\n",
       "      <td>5</td>\n",
       "    </tr>\n",
       "    <tr>\n",
       "      <th>3</th>\n",
       "      <td>Options (feat. 24kGoldn)</td>\n",
       "      <td>Internet Money</td>\n",
       "      <td>2</td>\n",
       "    </tr>\n",
       "    <tr>\n",
       "      <th>4</th>\n",
       "      <td>Options (feat. 24kGoldn)</td>\n",
       "      <td>24kGoldn</td>\n",
       "      <td>2</td>\n",
       "    </tr>\n",
       "    <tr>\n",
       "      <th>...</th>\n",
       "      <td>...</td>\n",
       "      <td>...</td>\n",
       "      <td>...</td>\n",
       "    </tr>\n",
       "    <tr>\n",
       "      <th>9067</th>\n",
       "      <td>So Sick</td>\n",
       "      <td>Ne-Yo</td>\n",
       "      <td>5</td>\n",
       "    </tr>\n",
       "    <tr>\n",
       "      <th>9068</th>\n",
       "      <td>Sorry</td>\n",
       "      <td>Madonna</td>\n",
       "      <td>1</td>\n",
       "    </tr>\n",
       "    <tr>\n",
       "      <th>9069</th>\n",
       "      <td>Eu Sei</td>\n",
       "      <td>Papas da Língua</td>\n",
       "      <td>6</td>\n",
       "    </tr>\n",
       "    <tr>\n",
       "      <th>9070</th>\n",
       "      <td>O Inferno São Os Outros</td>\n",
       "      <td>Titãs</td>\n",
       "      <td>6</td>\n",
       "    </tr>\n",
       "    <tr>\n",
       "      <th>9071</th>\n",
       "      <td>Quando Acaba Uma Paixão</td>\n",
       "      <td>Daniel</td>\n",
       "      <td>0</td>\n",
       "    </tr>\n",
       "  </tbody>\n",
       "</table>\n",
       "<p>9072 rows × 3 columns</p>\n",
       "</div>"
      ],
      "text/plain": [
       "                                        track_name      artist_name  cluster\n",
       "0     The Joker And The Queen (feat. Taylor Swift)       Ed Sheeran        0\n",
       "1     The Joker And The Queen (feat. Taylor Swift)     Taylor Swift        0\n",
       "2                                          Zo Zijn              sor        5\n",
       "3                         Options (feat. 24kGoldn)   Internet Money        2\n",
       "4                         Options (feat. 24kGoldn)         24kGoldn        2\n",
       "...                                            ...              ...      ...\n",
       "9067                                       So Sick            Ne-Yo        5\n",
       "9068                                         Sorry          Madonna        1\n",
       "9069                                        Eu Sei  Papas da Língua        6\n",
       "9070                       O Inferno São Os Outros            Titãs        6\n",
       "9071                       Quando Acaba Uma Paixão           Daniel        0\n",
       "\n",
       "[9072 rows x 3 columns]"
      ]
     },
     "execution_count": 8,
     "metadata": {},
     "output_type": "execute_result"
    }
   ],
   "source": [
    "suggestion_database"
   ]
  },
  {
   "cell_type": "markdown",
   "id": "d926dd5c",
   "metadata": {},
   "source": [
    "# MVP"
   ]
  },
  {
   "cell_type": "code",
   "execution_count": 9,
   "id": "f003aa9f",
   "metadata": {},
   "outputs": [],
   "source": [
    "import pickle\n",
    "filename = 'spotify_cluster_model.sav'\n",
    "cluster_model = pickle.load(open(filename, 'rb'))"
   ]
  },
  {
   "cell_type": "code",
   "execution_count": 10,
   "id": "8e1e3ab2",
   "metadata": {},
   "outputs": [],
   "source": [
    "filename_scaler = 'spotify_scaler.sav'\n",
    "scaler = pickle.load(open(filename_scaler, 'rb'))"
   ]
  },
  {
   "cell_type": "code",
   "execution_count": 18,
   "id": "47688336",
   "metadata": {},
   "outputs": [],
   "source": [
    "def song_advice():\n",
    "    song_input = input('Please fill in the name of a song you like :')\n",
    "    song_input = song_input.lower()\n",
    "    top_100_check = popvortex_100[popvortex_100['title'] == song_input]\n",
    "    \n",
    "    if len(top_100_check['title']) > 0 :\n",
    "        i = randint(1,100)\n",
    "        while popvortex_100['title'][i] == song_input:   # used to avoid advising the same song as the input\n",
    "            i = randint(1,100)\n",
    "        proposed_title = popvortex_100['title'][i]\n",
    "        proposed_artist = popvortex_100['artist'][index]\n",
    "        output = 'Great choice ! This song is in the PopVortex Top 100. You should listen to ' + proposed_title + ' by ' + proposed_artist + '. You might like it !'\n",
    "    \n",
    "    else :\n",
    "        res = sp.search(q='track:' + song_input, type='track')\n",
    "        data = pd.DataFrame(res['tracks']['items'])\n",
    "        data['name'] = data['name'].apply(lambda x: x.lower())\n",
    "        data = data[data['name'] == song_input].reset_index(drop = True)\n",
    "        if len(data['artists']) == 0:\n",
    "            output = 'We are sorry, but we cannot find any song with this name. Please try again.'\n",
    "        else:\n",
    "            track_id = None\n",
    "            if len(data['artists'])>1:\n",
    "                artist_input = input('Please fill in the name of the artist :')\n",
    "                artist_input = artist_input.lower()\n",
    "                for i in range(len(data['artists'])):\n",
    "                    art = data['artists'][i][0]['name'].lower()\n",
    "                    if art == artist_input:\n",
    "                        track_id = data['id'][i]\n",
    "                        break\n",
    "            else:\n",
    "                track_id =  data['id'][0]\n",
    "            track_uri = 'spotify:track:' + track_id\n",
    "            audio_features = pd.DataFrame(sp.audio_features(track_uri)[0], index=[0])[['danceability', 'energy', 'loudness', 'speechiness', 'acousticness', 'instrumentalness', 'liveness', 'valence', 'tempo', 'time_signature']]\n",
    "#             audio_features = audio_features[['danceability', 'energy', 'loudness', 'speechiness', 'acousticness', 'instrumentalness', 'liveness', 'valence', 'tempo', 'time_signature']]\n",
    "            audio_feat_prep = scaler.transform(audio_features)\n",
    "            song_input_cluster = cluster_model.predict(audio_feat_prep)[0]\n",
    "            suggestion_list = suggestion_database[suggestion_database['cluster'] == song_input_cluster].reset_index(drop=True)\n",
    "            j = randint(1,len(suggestion_list['track_name']))\n",
    "            while suggestion_list['track_name'][j] == song_input:  #used to avoid advising the same song as the input (if ever in the suggestion list)\n",
    "                j = randint(1,len(suggestion_list['track_name']))\n",
    "            proposed_title = suggestion_list['track_name'][j]\n",
    "            proposed_artist = suggestion_list['artist_name'][j]\n",
    "            output = 'Your song is not in the PopVortex Top 100. Our advice for you is: ' + proposed_title + ' by ' + proposed_artist + '. You might like it !'\n",
    "        \n",
    "    return output\n",
    "#     return data"
   ]
  },
  {
   "cell_type": "code",
   "execution_count": 15,
   "id": "55ee75dd",
   "metadata": {},
   "outputs": [
    {
     "name": "stdout",
     "output_type": "stream",
     "text": [
      "Please fill in the name of a song you like :thru\n"
     ]
    }
   ],
   "source": [
    "data = song_advice()"
   ]
  },
  {
   "cell_type": "code",
   "execution_count": 17,
   "id": "82bd9042",
   "metadata": {},
   "outputs": [
    {
     "data": {
      "text/plain": [
       "0"
      ]
     },
     "execution_count": 17,
     "metadata": {},
     "output_type": "execute_result"
    }
   ],
   "source": [
    "len(data)"
   ]
  },
  {
   "cell_type": "code",
   "execution_count": 29,
   "id": "fbf8f042",
   "metadata": {},
   "outputs": [
    {
     "data": {
      "text/plain": [
       "dict_keys(['href', 'items', 'limit', 'next', 'offset', 'previous', 'total'])"
      ]
     },
     "execution_count": 29,
     "metadata": {},
     "output_type": "execute_result"
    }
   ],
   "source": [
    "sp.search(q='track:' + 'thru', type='track', limit = 50)['tracks'].keys()"
   ]
  },
  {
   "cell_type": "code",
   "execution_count": 30,
   "id": "e159de76",
   "metadata": {},
   "outputs": [
    {
     "data": {
      "text/plain": [
       "10000"
      ]
     },
     "execution_count": 30,
     "metadata": {},
     "output_type": "execute_result"
    }
   ],
   "source": [
    "sp.search(q='track:' + 'thru', type='track', limit = 50)['tracks']['total']"
   ]
  },
  {
   "cell_type": "code",
   "execution_count": 28,
   "id": "948828cf",
   "metadata": {},
   "outputs": [
    {
     "ename": "ValueError",
     "evalue": "DataFrame constructor not properly called!",
     "output_type": "error",
     "traceback": [
      "\u001b[1;31m---------------------------------------------------------------------------\u001b[0m",
      "\u001b[1;31mValueError\u001b[0m                                Traceback (most recent call last)",
      "\u001b[1;32m~\\AppData\\Local\\Temp/ipykernel_15472/735861270.py\u001b[0m in \u001b[0;36m<module>\u001b[1;34m\u001b[0m\n\u001b[1;32m----> 1\u001b[1;33m \u001b[0mpd\u001b[0m\u001b[1;33m.\u001b[0m\u001b[0mDataFrame\u001b[0m\u001b[1;33m(\u001b[0m\u001b[0msp\u001b[0m\u001b[1;33m.\u001b[0m\u001b[0msearch\u001b[0m\u001b[1;33m(\u001b[0m\u001b[0mq\u001b[0m\u001b[1;33m=\u001b[0m\u001b[1;34m'track:'\u001b[0m \u001b[1;33m+\u001b[0m \u001b[1;34m'thru'\u001b[0m\u001b[1;33m,\u001b[0m \u001b[0mtype\u001b[0m\u001b[1;33m=\u001b[0m\u001b[1;34m'track'\u001b[0m\u001b[1;33m,\u001b[0m \u001b[0mlimit\u001b[0m \u001b[1;33m=\u001b[0m \u001b[1;36m50\u001b[0m\u001b[1;33m)\u001b[0m\u001b[1;33m[\u001b[0m\u001b[1;34m'tracks'\u001b[0m\u001b[1;33m]\u001b[0m\u001b[1;33m[\u001b[0m\u001b[1;34m'total'\u001b[0m\u001b[1;33m]\u001b[0m\u001b[1;33m)\u001b[0m\u001b[1;33m\u001b[0m\u001b[1;33m\u001b[0m\u001b[0m\n\u001b[0m",
      "\u001b[1;32m~\\anaconda3\\lib\\site-packages\\pandas\\core\\frame.py\u001b[0m in \u001b[0;36m__init__\u001b[1;34m(self, data, index, columns, dtype, copy)\u001b[0m\n\u001b[0;32m    728\u001b[0m         \u001b[1;32melse\u001b[0m\u001b[1;33m:\u001b[0m\u001b[1;33m\u001b[0m\u001b[1;33m\u001b[0m\u001b[0m\n\u001b[0;32m    729\u001b[0m             \u001b[1;32mif\u001b[0m \u001b[0mindex\u001b[0m \u001b[1;32mis\u001b[0m \u001b[1;32mNone\u001b[0m \u001b[1;32mor\u001b[0m \u001b[0mcolumns\u001b[0m \u001b[1;32mis\u001b[0m \u001b[1;32mNone\u001b[0m\u001b[1;33m:\u001b[0m\u001b[1;33m\u001b[0m\u001b[1;33m\u001b[0m\u001b[0m\n\u001b[1;32m--> 730\u001b[1;33m                 \u001b[1;32mraise\u001b[0m \u001b[0mValueError\u001b[0m\u001b[1;33m(\u001b[0m\u001b[1;34m\"DataFrame constructor not properly called!\"\u001b[0m\u001b[1;33m)\u001b[0m\u001b[1;33m\u001b[0m\u001b[1;33m\u001b[0m\u001b[0m\n\u001b[0m\u001b[0;32m    731\u001b[0m \u001b[1;33m\u001b[0m\u001b[0m\n\u001b[0;32m    732\u001b[0m             \u001b[1;31m# Argument 1 to \"ensure_index\" has incompatible type \"Collection[Any]\";\u001b[0m\u001b[1;33m\u001b[0m\u001b[1;33m\u001b[0m\u001b[0m\n",
      "\u001b[1;31mValueError\u001b[0m: DataFrame constructor not properly called!"
     ]
    }
   ],
   "source": [
    "pd.DataFrame(sp.search(q='track:' + 'thru', type='track', limit = 50)['tracks']['items'])"
   ]
  },
  {
   "cell_type": "markdown",
   "id": "53b133a2",
   "metadata": {},
   "source": [
    "The program does not work if there are a lot of songs with the same name (more than 50) and the exact match is not in the 50 first ones. To be corrected..."
   ]
  },
  {
   "cell_type": "code",
   "execution_count": null,
   "id": "2dee3b84",
   "metadata": {},
   "outputs": [],
   "source": []
  }
 ],
 "metadata": {
  "kernelspec": {
   "display_name": "Python 3 (ipykernel)",
   "language": "python",
   "name": "python3"
  },
  "language_info": {
   "codemirror_mode": {
    "name": "ipython",
    "version": 3
   },
   "file_extension": ".py",
   "mimetype": "text/x-python",
   "name": "python",
   "nbconvert_exporter": "python",
   "pygments_lexer": "ipython3",
   "version": "3.9.7"
  }
 },
 "nbformat": 4,
 "nbformat_minor": 5
}
